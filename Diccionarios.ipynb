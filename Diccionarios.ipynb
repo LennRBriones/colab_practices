{
  "nbformat": 4,
  "nbformat_minor": 0,
  "metadata": {
    "colab": {
      "provenance": [],
      "authorship_tag": "ABX9TyOMB/aAy5hr3hiSafegJWhj",
      "include_colab_link": true
    },
    "kernelspec": {
      "name": "python3",
      "display_name": "Python 3"
    },
    "language_info": {
      "name": "python"
    }
  },
  "cells": [
    {
      "cell_type": "markdown",
      "metadata": {
        "id": "view-in-github",
        "colab_type": "text"
      },
      "source": [
        "<a href=\"https://colab.research.google.com/github/LennRBriones/colab_practices/blob/main/Diccionarios.ipynb\" target=\"_parent\"><img src=\"https://colab.research.google.com/assets/colab-badge.svg\" alt=\"Open In Colab\"/></a>"
      ]
    },
    {
      "cell_type": "markdown",
      "source": [
        "# Creación y Modificación"
      ],
      "metadata": {
        "id": "n-cVv3BhOEr6"
      }
    },
    {
      "cell_type": "code",
      "execution_count": 2,
      "metadata": {
        "id": "oe-ro_LfOBKD"
      },
      "outputs": [],
      "source": [
        "dct = {\n",
        "    3:98275,\n",
        "    3:\"String\"\n",
        "}"
      ]
    },
    {
      "cell_type": "code",
      "source": [
        "dct"
      ],
      "metadata": {
        "colab": {
          "base_uri": "https://localhost:8080/"
        },
        "id": "HlMfmLOjOO7h",
        "outputId": "cfe75439-6207-4d4f-b9ab-316908463760"
      },
      "execution_count": 3,
      "outputs": [
        {
          "output_type": "execute_result",
          "data": {
            "text/plain": [
              "{3: 'String'}"
            ]
          },
          "metadata": {},
          "execution_count": 3
        }
      ]
    },
    {
      "cell_type": "markdown",
      "source": [
        "Como podemos ver y recordar, en diccionarios solo podemos poner un valor por cada objeto guardado, si ponemos 2 iguales estos terminaran siendo reemplazados por el ultimo que pongamos, deben ser unicos"
      ],
      "metadata": {
        "id": "VWXa7WG_ORua"
      }
    },
    {
      "cell_type": "code",
      "source": [
        "dct = {\n",
        "    \"dos\":98275,\n",
        "    3:\"String\"\n",
        "}"
      ],
      "metadata": {
        "id": "59moUzKQOQyL"
      },
      "execution_count": 4,
      "outputs": []
    },
    {
      "cell_type": "code",
      "source": [
        "dct"
      ],
      "metadata": {
        "colab": {
          "base_uri": "https://localhost:8080/"
        },
        "id": "jKaxDqnoOeoG",
        "outputId": "3ca86245-103d-48ee-94c8-02eee02271e0"
      },
      "execution_count": 5,
      "outputs": [
        {
          "output_type": "execute_result",
          "data": {
            "text/plain": [
              "{'dos': 98275, 3: 'String'}"
            ]
          },
          "metadata": {},
          "execution_count": 5
        }
      ]
    },
    {
      "cell_type": "code",
      "source": [
        "dct ={\n",
        "      \"lista\": [3,5,21,5],\n",
        "      \"diccionario\": {3: \"String 1\",\n",
        "                      2: \"String 2\"}   \n",
        "}"
      ],
      "metadata": {
        "id": "Sc88najwOgBn"
      },
      "execution_count": 6,
      "outputs": []
    },
    {
      "cell_type": "code",
      "source": [
        "dct"
      ],
      "metadata": {
        "colab": {
          "base_uri": "https://localhost:8080/"
        },
        "id": "WcBIQG95O8tw",
        "outputId": "6f12d6b4-83fb-4675-f793-2424ffefc1bc"
      },
      "execution_count": 7,
      "outputs": [
        {
          "output_type": "execute_result",
          "data": {
            "text/plain": [
              "{'lista': [3, 5, 21, 5], 'diccionario': {3: 'String 1', 2: 'String 2'}}"
            ]
          },
          "metadata": {},
          "execution_count": 7
        }
      ]
    },
    {
      "cell_type": "markdown",
      "source": [
        "Aquí como podemos ver, hemos añadido un diccionario y una lista dentro de un diccionario, para recordar que esto es posible"
      ],
      "metadata": {
        "id": "QBF6RevxO_kF"
      }
    },
    {
      "cell_type": "markdown",
      "source": [
        "Aquí pesentamos una forma diferente de creación de diccionarios"
      ],
      "metadata": {
        "id": "MuVL69l7PJ_K"
      }
    },
    {
      "cell_type": "code",
      "source": [
        "dct2 = dict([(\"llave1\", \"valor1\"), (\"llave2\", \"valor2\")])\n",
        "\n",
        "dct2"
      ],
      "metadata": {
        "colab": {
          "base_uri": "https://localhost:8080/"
        },
        "id": "F9uFSzxwO-8d",
        "outputId": "794adef5-9292-48e4-80d0-35b68e931710"
      },
      "execution_count": 8,
      "outputs": [
        {
          "output_type": "execute_result",
          "data": {
            "text/plain": [
              "{'llave1': 'valor1', 'llave2': 'valor2'}"
            ]
          },
          "metadata": {},
          "execution_count": 8
        }
      ]
    },
    {
      "cell_type": "markdown",
      "source": [
        "# Acceso llaves y valores"
      ],
      "metadata": {
        "id": "kaNlno7RPnyP"
      }
    },
    {
      "cell_type": "code",
      "source": [
        "dct.keys()"
      ],
      "metadata": {
        "colab": {
          "base_uri": "https://localhost:8080/"
        },
        "id": "LgSkKKXyPj9h",
        "outputId": "d5bd3798-731f-41a4-fc43-022516955a13"
      },
      "execution_count": 9,
      "outputs": [
        {
          "output_type": "execute_result",
          "data": {
            "text/plain": [
              "dict_keys(['lista', 'diccionario'])"
            ]
          },
          "metadata": {},
          "execution_count": 9
        }
      ]
    },
    {
      "cell_type": "markdown",
      "source": [
        "Como vemos nos devuelve las llaves que tenemos dentro del diccionario que queremos ver"
      ],
      "metadata": {
        "id": "lVMY5rtQP2To"
      }
    },
    {
      "cell_type": "code",
      "source": [
        "dct.values()"
      ],
      "metadata": {
        "colab": {
          "base_uri": "https://localhost:8080/"
        },
        "id": "_4wBgbWKPy5N",
        "outputId": "33693ca6-e007-4eaf-eeb1-219b1dde1e2a"
      },
      "execution_count": 10,
      "outputs": [
        {
          "output_type": "execute_result",
          "data": {
            "text/plain": [
              "dict_values([[3, 5, 21, 5], {3: 'String 1', 2: 'String 2'}])"
            ]
          },
          "metadata": {},
          "execution_count": 10
        }
      ]
    },
    {
      "cell_type": "markdown",
      "source": [
        "Lo mismo para los valores dentro de los mismo"
      ],
      "metadata": {
        "id": "E5XEqnEOQE9m"
      }
    },
    {
      "cell_type": "code",
      "source": [
        "dct[\"lista\"]"
      ],
      "metadata": {
        "colab": {
          "base_uri": "https://localhost:8080/"
        },
        "id": "KixyNyknP9kE",
        "outputId": "4babfd4e-21b6-4017-c562-dffc1be03283"
      },
      "execution_count": 11,
      "outputs": [
        {
          "output_type": "execute_result",
          "data": {
            "text/plain": [
              "[3, 5, 21, 5]"
            ]
          },
          "metadata": {},
          "execution_count": 11
        }
      ]
    },
    {
      "cell_type": "markdown",
      "source": [
        "En este caso como vemos, podemos llamar a cada valor para ver lo que contiene, estos no funcionan con indices, tenemos que poner si o si el nombre del valor"
      ],
      "metadata": {
        "id": "CAjDb8mkQfjK"
      }
    },
    {
      "cell_type": "code",
      "source": [
        "dct[0]"
      ],
      "metadata": {
        "colab": {
          "base_uri": "https://localhost:8080/",
          "height": 165
        },
        "id": "gXEX6mDtQNbX",
        "outputId": "6195396b-66fb-4dc7-b9f9-a1568e981325"
      },
      "execution_count": 12,
      "outputs": [
        {
          "output_type": "error",
          "ename": "KeyError",
          "evalue": "ignored",
          "traceback": [
            "\u001b[0;31m---------------------------------------------------------------------------\u001b[0m",
            "\u001b[0;31mKeyError\u001b[0m                                  Traceback (most recent call last)",
            "\u001b[0;32m<ipython-input-12-bddb1a64b6de>\u001b[0m in \u001b[0;36m<module>\u001b[0;34m\u001b[0m\n\u001b[0;32m----> 1\u001b[0;31m \u001b[0mdct\u001b[0m\u001b[0;34m[\u001b[0m\u001b[0;36m0\u001b[0m\u001b[0;34m]\u001b[0m\u001b[0;34m\u001b[0m\u001b[0;34m\u001b[0m\u001b[0m\n\u001b[0m",
            "\u001b[0;31mKeyError\u001b[0m: 0"
          ]
        }
      ]
    },
    {
      "cell_type": "code",
      "source": [
        "dct.items()"
      ],
      "metadata": {
        "colab": {
          "base_uri": "https://localhost:8080/"
        },
        "id": "MT6Hrht1QszO",
        "outputId": "9ae5b166-9215-4a7e-c55c-c659d0718ba5"
      },
      "execution_count": 13,
      "outputs": [
        {
          "output_type": "execute_result",
          "data": {
            "text/plain": [
              "dict_items([('lista', [3, 5, 21, 5]), ('diccionario', {3: 'String 1', 2: 'String 2'})])"
            ]
          },
          "metadata": {},
          "execution_count": 13
        }
      ]
    },
    {
      "cell_type": "markdown",
      "source": [
        "Este nos devuelve tanto las llaves como los valores de nuestro diccionario a modo de tupla"
      ],
      "metadata": {
        "id": "KWiuw6-AQ8nn"
      }
    },
    {
      "cell_type": "markdown",
      "source": [
        "## Modificación"
      ],
      "metadata": {
        "id": "eKN0aLwMK8o9"
      }
    },
    {
      "cell_type": "code",
      "source": [
        "dct"
      ],
      "metadata": {
        "id": "Q1a7o92XQ2gX",
        "colab": {
          "base_uri": "https://localhost:8080/"
        },
        "outputId": "2db9da0e-dc71-41ce-a362-94f1a67f8843"
      },
      "execution_count": 14,
      "outputs": [
        {
          "output_type": "execute_result",
          "data": {
            "text/plain": [
              "{'lista': [3, 5, 21, 5], 'diccionario': {3: 'String 1', 2: 'String 2'}}"
            ]
          },
          "metadata": {},
          "execution_count": 14
        }
      ]
    },
    {
      "cell_type": "code",
      "source": [
        "dct.update()"
      ],
      "metadata": {
        "id": "2ERP9fGoLFZG"
      },
      "execution_count": 15,
      "outputs": []
    },
    {
      "cell_type": "code",
      "source": [],
      "metadata": {
        "id": "dF6S5U0iLQOx"
      },
      "execution_count": null,
      "outputs": []
    }
  ]
}