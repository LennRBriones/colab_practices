{
  "nbformat": 4,
  "nbformat_minor": 0,
  "metadata": {
    "colab": {
      "provenance": [],
      "authorship_tag": "ABX9TyO2GXFznZsIXbru9R3J+lJS",
      "include_colab_link": true
    },
    "kernelspec": {
      "name": "python3",
      "display_name": "Python 3"
    },
    "language_info": {
      "name": "python"
    }
  },
  "cells": [
    {
      "cell_type": "markdown",
      "metadata": {
        "id": "view-in-github",
        "colab_type": "text"
      },
      "source": [
        "<a href=\"https://colab.research.google.com/github/LennRBriones/colab_practices/blob/main/Diccionarios.ipynb\" target=\"_parent\"><img src=\"https://colab.research.google.com/assets/colab-badge.svg\" alt=\"Open In Colab\"/></a>"
      ]
    },
    {
      "cell_type": "markdown",
      "source": [
        "# Creación y Modificación"
      ],
      "metadata": {
        "id": "n-cVv3BhOEr6"
      }
    },
    {
      "cell_type": "code",
      "execution_count": 1,
      "metadata": {
        "id": "oe-ro_LfOBKD"
      },
      "outputs": [],
      "source": [
        "dct = {\n",
        "    3:98275,\n",
        "    3:\"String\"\n",
        "}"
      ]
    },
    {
      "cell_type": "code",
      "source": [
        "dct"
      ],
      "metadata": {
        "colab": {
          "base_uri": "https://localhost:8080/"
        },
        "id": "HlMfmLOjOO7h",
        "outputId": "28ca9bdc-211d-4044-fede-6248190d4b1e"
      },
      "execution_count": 2,
      "outputs": [
        {
          "output_type": "execute_result",
          "data": {
            "text/plain": [
              "{3: 'String'}"
            ]
          },
          "metadata": {},
          "execution_count": 2
        }
      ]
    },
    {
      "cell_type": "markdown",
      "source": [
        "Como podemos ver y recordar, en diccionarios solo podemos poner un valor por cada objeto guardado, si ponemos 2 iguales estos terminaran siendo reemplazados por el ultimo que pongamos, deben ser unicos"
      ],
      "metadata": {
        "id": "VWXa7WG_ORua"
      }
    },
    {
      "cell_type": "code",
      "source": [
        "dct = {\n",
        "    \"dos\":98275,\n",
        "    3:\"String\"\n",
        "}"
      ],
      "metadata": {
        "id": "59moUzKQOQyL"
      },
      "execution_count": 3,
      "outputs": []
    },
    {
      "cell_type": "code",
      "source": [
        "dct"
      ],
      "metadata": {
        "colab": {
          "base_uri": "https://localhost:8080/"
        },
        "id": "jKaxDqnoOeoG",
        "outputId": "f55d71bf-af5d-4eba-80b1-699561c5fee1"
      },
      "execution_count": 4,
      "outputs": [
        {
          "output_type": "execute_result",
          "data": {
            "text/plain": [
              "{'dos': 98275, 3: 'String'}"
            ]
          },
          "metadata": {},
          "execution_count": 4
        }
      ]
    },
    {
      "cell_type": "code",
      "source": [
        "dct ={\n",
        "      \"lista\": [3,5,21,5],\n",
        "      \"diccionario\": {3: \"String 1\",\n",
        "                      2: \"String 2\"}   \n",
        "}"
      ],
      "metadata": {
        "id": "Sc88najwOgBn"
      },
      "execution_count": 6,
      "outputs": []
    },
    {
      "cell_type": "code",
      "source": [
        "dct"
      ],
      "metadata": {
        "colab": {
          "base_uri": "https://localhost:8080/"
        },
        "id": "WcBIQG95O8tw",
        "outputId": "3dd45dc6-c442-40c6-bb50-f1b09d11f403"
      },
      "execution_count": 7,
      "outputs": [
        {
          "output_type": "execute_result",
          "data": {
            "text/plain": [
              "{'lista': [3, 5, 21, 5], 'diccionario': {3: 'String 1', 2: 'String 2'}}"
            ]
          },
          "metadata": {},
          "execution_count": 7
        }
      ]
    },
    {
      "cell_type": "markdown",
      "source": [
        "Aquí como podemos ver, hemos añadido un diccionario y una lista dentro de un diccionario, para recordar que esto es posible"
      ],
      "metadata": {
        "id": "QBF6RevxO_kF"
      }
    },
    {
      "cell_type": "markdown",
      "source": [
        "Aquí pesentamos una forma diferente de creación de diccionarios"
      ],
      "metadata": {
        "id": "MuVL69l7PJ_K"
      }
    },
    {
      "cell_type": "code",
      "source": [
        "dct2 = dict([(\"llave1\", \"valor1\"), (\"llave2\", \"valor2\")])\n",
        "\n",
        "dct2"
      ],
      "metadata": {
        "colab": {
          "base_uri": "https://localhost:8080/"
        },
        "id": "F9uFSzxwO-8d",
        "outputId": "29c53d0b-14ff-4980-f0d0-453739546b1c"
      },
      "execution_count": 8,
      "outputs": [
        {
          "output_type": "execute_result",
          "data": {
            "text/plain": [
              "{'llave1': 'valor1', 'llave2': 'valor2'}"
            ]
          },
          "metadata": {},
          "execution_count": 8
        }
      ]
    },
    {
      "cell_type": "markdown",
      "source": [
        "# Acceso llaves y valores"
      ],
      "metadata": {
        "id": "kaNlno7RPnyP"
      }
    },
    {
      "cell_type": "code",
      "source": [
        "dct.keys()"
      ],
      "metadata": {
        "colab": {
          "base_uri": "https://localhost:8080/"
        },
        "id": "LgSkKKXyPj9h",
        "outputId": "2032766b-398e-46c4-ba1e-afce375d7a00"
      },
      "execution_count": 9,
      "outputs": [
        {
          "output_type": "execute_result",
          "data": {
            "text/plain": [
              "dict_keys(['lista', 'diccionario'])"
            ]
          },
          "metadata": {},
          "execution_count": 9
        }
      ]
    },
    {
      "cell_type": "markdown",
      "source": [
        "Como vemos nos devuelve las llaves que tenemos dentro del diccionario que queremos ver"
      ],
      "metadata": {
        "id": "lVMY5rtQP2To"
      }
    },
    {
      "cell_type": "code",
      "source": [
        "dct.values()"
      ],
      "metadata": {
        "colab": {
          "base_uri": "https://localhost:8080/"
        },
        "id": "_4wBgbWKPy5N",
        "outputId": "df4d0a94-7b5b-4185-c396-f9aa0a74aa86"
      },
      "execution_count": 10,
      "outputs": [
        {
          "output_type": "execute_result",
          "data": {
            "text/plain": [
              "dict_values([[3, 5, 21, 5], {3: 'String 1', 2: 'String 2'}])"
            ]
          },
          "metadata": {},
          "execution_count": 10
        }
      ]
    },
    {
      "cell_type": "markdown",
      "source": [
        "Lo mismo para los valores dentro de los mismo"
      ],
      "metadata": {
        "id": "E5XEqnEOQE9m"
      }
    },
    {
      "cell_type": "code",
      "source": [
        "dct[\"lista\"]"
      ],
      "metadata": {
        "colab": {
          "base_uri": "https://localhost:8080/"
        },
        "id": "KixyNyknP9kE",
        "outputId": "495113f7-cc01-4298-fde0-5cc9b505270d"
      },
      "execution_count": 11,
      "outputs": [
        {
          "output_type": "execute_result",
          "data": {
            "text/plain": [
              "[3, 5, 21, 5]"
            ]
          },
          "metadata": {},
          "execution_count": 11
        }
      ]
    },
    {
      "cell_type": "markdown",
      "source": [
        "En este caso como vemos, podemos llamar a cada valor para ver lo que contiene, estos no funcionan con indices, tenemos que poner si o si el nombre del valor"
      ],
      "metadata": {
        "id": "CAjDb8mkQfjK"
      }
    },
    {
      "cell_type": "code",
      "source": [
        "dct[0]"
      ],
      "metadata": {
        "colab": {
          "base_uri": "https://localhost:8080/",
          "height": 165
        },
        "id": "gXEX6mDtQNbX",
        "outputId": "d2d5283d-2cf0-4e54-ea60-d79a232b8623"
      },
      "execution_count": 12,
      "outputs": [
        {
          "output_type": "error",
          "ename": "KeyError",
          "evalue": "ignored",
          "traceback": [
            "\u001b[0;31m---------------------------------------------------------------------------\u001b[0m",
            "\u001b[0;31mKeyError\u001b[0m                                  Traceback (most recent call last)",
            "\u001b[0;32m<ipython-input-12-bddb1a64b6de>\u001b[0m in \u001b[0;36m<module>\u001b[0;34m\u001b[0m\n\u001b[0;32m----> 1\u001b[0;31m \u001b[0mdct\u001b[0m\u001b[0;34m[\u001b[0m\u001b[0;36m0\u001b[0m\u001b[0;34m]\u001b[0m\u001b[0;34m\u001b[0m\u001b[0;34m\u001b[0m\u001b[0m\n\u001b[0m",
            "\u001b[0;31mKeyError\u001b[0m: 0"
          ]
        }
      ]
    },
    {
      "cell_type": "code",
      "source": [
        "dct.items()"
      ],
      "metadata": {
        "colab": {
          "base_uri": "https://localhost:8080/"
        },
        "id": "MT6Hrht1QszO",
        "outputId": "4b13568c-80f2-4859-fd4a-152aed65b367"
      },
      "execution_count": 13,
      "outputs": [
        {
          "output_type": "execute_result",
          "data": {
            "text/plain": [
              "dict_items([('lista', [3, 5, 21, 5]), ('diccionario', {3: 'String 1', 2: 'String 2'})])"
            ]
          },
          "metadata": {},
          "execution_count": 13
        }
      ]
    },
    {
      "cell_type": "markdown",
      "source": [
        "Este nos devuelve tanto las llaves como los valores de nuestro diccionario a modo de tupla"
      ],
      "metadata": {
        "id": "KWiuw6-AQ8nn"
      }
    },
    {
      "cell_type": "code",
      "source": [],
      "metadata": {
        "id": "Q1a7o92XQ2gX"
      },
      "execution_count": null,
      "outputs": []
    }
  ]
}