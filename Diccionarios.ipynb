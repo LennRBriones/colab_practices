{
  "nbformat": 4,
  "nbformat_minor": 0,
  "metadata": {
    "colab": {
      "provenance": [],
      "authorship_tag": "ABX9TyOuwuoVmJWncwzec81Boj5T",
      "include_colab_link": true
    },
    "kernelspec": {
      "name": "python3",
      "display_name": "Python 3"
    },
    "language_info": {
      "name": "python"
    }
  },
  "cells": [
    {
      "cell_type": "markdown",
      "metadata": {
        "id": "view-in-github",
        "colab_type": "text"
      },
      "source": [
        "<a href=\"https://colab.research.google.com/github/LennRBriones/colab_practices/blob/main/Diccionarios.ipynb\" target=\"_parent\"><img src=\"https://colab.research.google.com/assets/colab-badge.svg\" alt=\"Open In Colab\"/></a>"
      ]
    },
    {
      "cell_type": "markdown",
      "source": [
        "# Creación y Modificación"
      ],
      "metadata": {
        "id": "n-cVv3BhOEr6"
      }
    },
    {
      "cell_type": "code",
      "execution_count": null,
      "metadata": {
        "id": "oe-ro_LfOBKD"
      },
      "outputs": [],
      "source": [
        "dct = {\n",
        "    3:98275,\n",
        "    3:\"String\"\n",
        "}"
      ]
    },
    {
      "cell_type": "code",
      "source": [
        "dct"
      ],
      "metadata": {
        "id": "HlMfmLOjOO7h"
      },
      "execution_count": null,
      "outputs": []
    },
    {
      "cell_type": "markdown",
      "source": [
        "Como podemos ver y recordar, en diccionarios solo podemos poner un valor por cada objeto guardado, si ponemos 2 iguales estos terminaran siendo reemplazados por el ultimo que pongamos, deben ser unicos"
      ],
      "metadata": {
        "id": "VWXa7WG_ORua"
      }
    },
    {
      "cell_type": "code",
      "source": [
        "dct = {\n",
        "    \"dos\":98275,\n",
        "    3:\"String\"\n",
        "}"
      ],
      "metadata": {
        "id": "59moUzKQOQyL"
      },
      "execution_count": null,
      "outputs": []
    },
    {
      "cell_type": "code",
      "source": [
        "dct"
      ],
      "metadata": {
        "id": "jKaxDqnoOeoG"
      },
      "execution_count": null,
      "outputs": []
    },
    {
      "cell_type": "code",
      "source": [
        "dct ={\n",
        "      \"lista\": [3,5,21,5],\n",
        "      \"diccionario\": {3: \"String 1\",\n",
        "                      2: \"String 2\"}   \n",
        "}"
      ],
      "metadata": {
        "id": "Sc88najwOgBn"
      },
      "execution_count": null,
      "outputs": []
    },
    {
      "cell_type": "code",
      "source": [
        "dct"
      ],
      "metadata": {
        "id": "WcBIQG95O8tw"
      },
      "execution_count": null,
      "outputs": []
    },
    {
      "cell_type": "markdown",
      "source": [
        "Aquí como podemos ver, hemos añadido un diccionario y una lista dentro de un diccionario, para recordar que esto es posible"
      ],
      "metadata": {
        "id": "QBF6RevxO_kF"
      }
    },
    {
      "cell_type": "markdown",
      "source": [
        "Aquí pesentamos una forma diferente de creación de diccionarios"
      ],
      "metadata": {
        "id": "MuVL69l7PJ_K"
      }
    },
    {
      "cell_type": "code",
      "source": [
        "dct2 = dict([(\"llave1\", \"valor1\"), (\"llave2\", \"valor2\")])\n",
        "\n",
        "dct2"
      ],
      "metadata": {
        "id": "F9uFSzxwO-8d"
      },
      "execution_count": null,
      "outputs": []
    },
    {
      "cell_type": "markdown",
      "source": [
        "# Acceso llaves y valores"
      ],
      "metadata": {
        "id": "kaNlno7RPnyP"
      }
    },
    {
      "cell_type": "code",
      "source": [
        "dct.keys()"
      ],
      "metadata": {
        "id": "LgSkKKXyPj9h"
      },
      "execution_count": null,
      "outputs": []
    },
    {
      "cell_type": "markdown",
      "source": [
        "Como vemos nos devuelve las llaves que tenemos dentro del diccionario que queremos ver"
      ],
      "metadata": {
        "id": "lVMY5rtQP2To"
      }
    },
    {
      "cell_type": "code",
      "source": [
        "dct.values()"
      ],
      "metadata": {
        "id": "_4wBgbWKPy5N"
      },
      "execution_count": null,
      "outputs": []
    },
    {
      "cell_type": "markdown",
      "source": [
        "Lo mismo para los valores dentro de los mismo"
      ],
      "metadata": {
        "id": "E5XEqnEOQE9m"
      }
    },
    {
      "cell_type": "code",
      "source": [
        "dct[\"lista\"]"
      ],
      "metadata": {
        "id": "KixyNyknP9kE"
      },
      "execution_count": null,
      "outputs": []
    },
    {
      "cell_type": "markdown",
      "source": [
        "En este caso como vemos, podemos llamar a cada valor para ver lo que contiene, estos no funcionan con indices, tenemos que poner si o si el nombre del valor"
      ],
      "metadata": {
        "id": "CAjDb8mkQfjK"
      }
    },
    {
      "cell_type": "code",
      "source": [
        "dct[0]"
      ],
      "metadata": {
        "id": "gXEX6mDtQNbX"
      },
      "execution_count": null,
      "outputs": []
    },
    {
      "cell_type": "code",
      "source": [
        "dct.items()"
      ],
      "metadata": {
        "id": "MT6Hrht1QszO"
      },
      "execution_count": null,
      "outputs": []
    },
    {
      "cell_type": "markdown",
      "source": [
        "Este nos devuelve tanto las llaves como los valores de nuestro diccionario a modo de tupla"
      ],
      "metadata": {
        "id": "KWiuw6-AQ8nn"
      }
    },
    {
      "cell_type": "markdown",
      "source": [
        "# Modificación"
      ],
      "metadata": {
        "id": "eKN0aLwMK8o9"
      }
    },
    {
      "cell_type": "code",
      "source": [
        "dct"
      ],
      "metadata": {
        "id": "Q1a7o92XQ2gX"
      },
      "execution_count": null,
      "outputs": []
    },
    {
      "cell_type": "code",
      "source": [
        "dct.update()"
      ],
      "metadata": {
        "id": "2ERP9fGoLFZG"
      },
      "execution_count": null,
      "outputs": []
    },
    {
      "cell_type": "markdown",
      "source": [
        "dct.update([key, value), (key, value),...]\n",
        "\n",
        "Introduce nuevos pares llave: valor a nuestro diccionario aceptando un lista con una o varias tuplas"
      ],
      "metadata": {
        "id": "JBPSb-eP5s1i"
      }
    },
    {
      "cell_type": "code",
      "source": [
        "dct.update([(\"nuevo_elemento\", 872635), (\"nuevo_elemento2\", 8755123)])"
      ],
      "metadata": {
        "id": "dF6S5U0iLQOx"
      },
      "execution_count": null,
      "outputs": []
    },
    {
      "cell_type": "code",
      "source": [
        "dct"
      ],
      "metadata": {
        "id": "W45xc6II6VHw"
      },
      "execution_count": null,
      "outputs": []
    },
    {
      "cell_type": "markdown",
      "source": [
        "Como vemos, con update metemos un nuevo elemento con su llave al final del diccionario"
      ],
      "metadata": {
        "id": "kTycgcTF6oON"
      }
    },
    {
      "cell_type": "code",
      "source": [
        "dct[\"esta_no_existía\"] = \"nueva_llave\""
      ],
      "metadata": {
        "id": "BUQfNwo-6nOt"
      },
      "execution_count": null,
      "outputs": []
    },
    {
      "cell_type": "code",
      "source": [
        "dct"
      ],
      "metadata": {
        "id": "t34dsviE7H_8"
      },
      "execution_count": null,
      "outputs": []
    },
    {
      "cell_type": "code",
      "source": [
        "dct[\"esta_no_existía\"] = [\"otra_nueva_llave\", 83756, \"string\", 5.3, {1:8, \"dos\":\"ocho\"}]"
      ],
      "metadata": {
        "id": "Z6iAesJ27JAK"
      },
      "execution_count": null,
      "outputs": []
    },
    {
      "cell_type": "code",
      "source": [
        "del dct[\"lista\"]"
      ],
      "metadata": {
        "id": "2OilECPkI6qn"
      },
      "execution_count": null,
      "outputs": []
    },
    {
      "cell_type": "code",
      "source": [
        "dct"
      ],
      "metadata": {
        "id": "lEpqyKx1I_1j"
      },
      "execution_count": null,
      "outputs": []
    },
    {
      "cell_type": "markdown",
      "source": [
        "Como vemos, para elimintar sería con la keyword \"del\""
      ],
      "metadata": {
        "id": "r0cWxSC5I1Lf"
      }
    },
    {
      "cell_type": "code",
      "source": [
        "elemento_extraido = dct.pop(\"nuevo_elemento\")"
      ],
      "metadata": {
        "id": "RkSoYVSKJA9e"
      },
      "execution_count": null,
      "outputs": []
    },
    {
      "cell_type": "code",
      "source": [
        "elemento_extraido"
      ],
      "metadata": {
        "id": "1Xk8oRilJOU0"
      },
      "execution_count": null,
      "outputs": []
    },
    {
      "cell_type": "markdown",
      "source": [
        "Extrae el valor de la llave indicada, pudiendola guardar en una nueva variable. Elimina tanto la llave como el valor de nuestro diccionario\n",
        "\n"
      ],
      "metadata": {
        "id": "D-4Vwuk6x7tP"
      }
    },
    {
      "cell_type": "markdown",
      "source": [
        "# Zip()"
      ],
      "metadata": {
        "id": "93IQLZ2NyW_r"
      }
    },
    {
      "cell_type": "markdown",
      "source": [
        "Nos ayuda a juntar 2 iterables, ya sea como tupla o diccionario"
      ],
      "metadata": {
        "id": "gjIA9G-cyaAy"
      }
    },
    {
      "cell_type": "code",
      "source": [
        "it1 = [1, 2, 3, 4, 5, 6]\n",
        "it2 = [\"uno\", \"dos\", \"tres\", \"cuatro\", \"cinco\", \"seis\"]"
      ],
      "metadata": {
        "id": "ddphlvXpyHsb"
      },
      "execution_count": null,
      "outputs": []
    },
    {
      "cell_type": "code",
      "source": [
        "list (zip(it1, it2))"
      ],
      "metadata": {
        "id": "fwmwqD3XzA5G"
      },
      "execution_count": null,
      "outputs": []
    },
    {
      "cell_type": "code",
      "source": [
        "dict (zip(it1, it2))"
      ],
      "metadata": {
        "id": "oYx9wd5QzEIB"
      },
      "execution_count": null,
      "outputs": []
    },
    {
      "cell_type": "code",
      "source": [
        "import pandas as pd\n",
        "\n",
        "df = pd.read_csv(\"/content/sample_data/california_housing_test.csv\")"
      ],
      "metadata": {
        "id": "f4waYWnwzdYj"
      },
      "execution_count": null,
      "outputs": []
    },
    {
      "cell_type": "code",
      "source": [
        "df.head()"
      ],
      "metadata": {
        "id": "5Rq2KU4wzvl0"
      },
      "execution_count": null,
      "outputs": []
    },
    {
      "cell_type": "code",
      "source": [
        "df[\"latitude\"]"
      ],
      "metadata": {
        "id": "KdadI1zFz8rl"
      },
      "execution_count": null,
      "outputs": []
    },
    {
      "cell_type": "code",
      "source": [
        "zip(df[\"housing_median_age\"], df[\"total_bedrooms\"])"
      ],
      "metadata": {
        "id": "TPOZ2o8h0DKM"
      },
      "execution_count": null,
      "outputs": []
    },
    {
      "cell_type": "code",
      "source": [
        "dict(zip(df[\"housing_median_age\"], df[\"total_bedrooms\"]))"
      ],
      "metadata": {
        "id": "ZwPdSRHF0ThP"
      },
      "execution_count": null,
      "outputs": []
    },
    {
      "cell_type": "markdown",
      "source": [
        "Aquí no teníamos un nombre para asociarlo y que fuera practico, pero podemos tomarlo como ejemplo de como los juntamos como diccionario donde hacemos que uno sea la llave y el otro el valor tomandolo de un data frame"
      ],
      "metadata": {
        "id": "Wh7gGimo0aTv"
      }
    },
    {
      "cell_type": "markdown",
      "source": [
        "# Iterar sobre diccionarios"
      ],
      "metadata": {
        "id": "PcAF8BBG0qp0"
      }
    },
    {
      "cell_type": "code",
      "source": [
        "#Asignación simple\n",
        "\n",
        "a = 2"
      ],
      "metadata": {
        "id": "bqBb4FiG0YP7"
      },
      "execution_count": 47,
      "outputs": []
    },
    {
      "cell_type": "code",
      "source": [
        "#Asignación multivariable\n",
        "\n",
        "a, b = (2, 5)"
      ],
      "metadata": {
        "id": "5HlnXhYC046W"
      },
      "execution_count": 48,
      "outputs": []
    },
    {
      "cell_type": "code",
      "source": [
        "dct.items()"
      ],
      "metadata": {
        "colab": {
          "base_uri": "https://localhost:8080/"
        },
        "id": "BotP8l520_hb",
        "outputId": "92670791-8c5d-46a3-bf56-ad43e634e8ab"
      },
      "execution_count": 49,
      "outputs": [
        {
          "output_type": "execute_result",
          "data": {
            "text/plain": [
              "dict_items([('diccionario', {3: 'String 1', 2: 'String 2'}), ('nuevo_elemento2', 8755123), ('esta_no_existía', ['otra_nueva_llave', 83756, 'string', 5.3, {1: 8, 'dos': 'ocho'}])])"
            ]
          },
          "metadata": {},
          "execution_count": 49
        }
      ]
    },
    {
      "cell_type": "code",
      "source": [
        "for a in dct.items():\n",
        "\n",
        "  print(a)"
      ],
      "metadata": {
        "colab": {
          "base_uri": "https://localhost:8080/"
        },
        "id": "1dBpCEfu1USt",
        "outputId": "887be62c-29ff-4720-d195-e3d84c135203"
      },
      "execution_count": 50,
      "outputs": [
        {
          "output_type": "stream",
          "name": "stdout",
          "text": [
            "('diccionario', {3: 'String 1', 2: 'String 2'})\n",
            "('nuevo_elemento2', 8755123)\n",
            "('esta_no_existía', ['otra_nueva_llave', 83756, 'string', 5.3, {1: 8, 'dos': 'ocho'}])\n"
          ]
        }
      ]
    },
    {
      "cell_type": "code",
      "source": [
        "for a, b in dct.items():\n",
        "\n",
        "  print(b)"
      ],
      "metadata": {
        "colab": {
          "base_uri": "https://localhost:8080/"
        },
        "id": "tbOIC40h1cdg",
        "outputId": "6872e8af-6245-4536-ae89-875ef0c6339c"
      },
      "execution_count": 52,
      "outputs": [
        {
          "output_type": "stream",
          "name": "stdout",
          "text": [
            "{3: 'String 1', 2: 'String 2'}\n",
            "8755123\n",
            "['otra_nueva_llave', 83756, 'string', 5.3, {1: 8, 'dos': 'ocho'}]\n"
          ]
        }
      ]
    },
    {
      "cell_type": "code",
      "source": [
        "dct2"
      ],
      "metadata": {
        "colab": {
          "base_uri": "https://localhost:8080/"
        },
        "id": "4a5uzICp2EU0",
        "outputId": "e96899af-618b-4ede-a592-6eb462f64417"
      },
      "execution_count": 53,
      "outputs": [
        {
          "output_type": "execute_result",
          "data": {
            "text/plain": [
              "{'llave1': 'valor1', 'llave2': 'valor2'}"
            ]
          },
          "metadata": {},
          "execution_count": 53
        }
      ]
    },
    {
      "cell_type": "code",
      "source": [
        "for key, value in dct2.items():\n",
        "    \n",
        "    print(f\"la llave es {key} y el valor es {value}\")"
      ],
      "metadata": {
        "colab": {
          "base_uri": "https://localhost:8080/"
        },
        "id": "b2OG7URd2Nt8",
        "outputId": "ffcc98cb-8665-4943-a497-3feadaac0796"
      },
      "execution_count": 57,
      "outputs": [
        {
          "output_type": "stream",
          "name": "stdout",
          "text": [
            "la llave es llave1 y el valor es valor1\n",
            "la llave es llave2 y el valor es valor2\n"
          ]
        }
      ]
    },
    {
      "cell_type": "markdown",
      "source": [
        "Como vemos podemos iterar sobre diccionarios para sacar valores"
      ],
      "metadata": {
        "id": "U8e4CwGj2-O2"
      }
    },
    {
      "cell_type": "code",
      "source": [
        "for key, value in dct2.items():\n",
        "\n",
        "  dct2[key] = value + \" modificado\"\n"
      ],
      "metadata": {
        "id": "H0rkWSvG2ar3"
      },
      "execution_count": 62,
      "outputs": []
    },
    {
      "cell_type": "code",
      "source": [
        "dct2"
      ],
      "metadata": {
        "colab": {
          "base_uri": "https://localhost:8080/"
        },
        "id": "6JUuTqqu3N-v",
        "outputId": "0240c4bf-2a5f-447d-d95e-a6049fb9c239"
      },
      "execution_count": 63,
      "outputs": [
        {
          "output_type": "execute_result",
          "data": {
            "text/plain": [
              "{'llave1': 'valor1modificadomodificado modificado modificado',\n",
              " 'llave2': 'valor2modificadomodificado modificado modificado'}"
            ]
          },
          "metadata": {},
          "execution_count": 63
        }
      ]
    },
    {
      "cell_type": "markdown",
      "source": [
        "# Dictionary Comprehensions"
      ],
      "metadata": {
        "id": "WpltdO6m7l66"
      }
    },
    {
      "cell_type": "markdown",
      "source": [
        "## List Comprehensions"
      ],
      "metadata": {
        "id": "otC_UPqV5JFh"
      }
    },
    {
      "cell_type": "markdown",
      "source": [
        "Recordando que estos nos permiten un metodo rápido para creación de listas a través de un for loop. Cada elemento iterado se incluye en la lista\n",
        "> lista = [x for x in iterable if condicion] "
      ],
      "metadata": {
        "id": "3lAhVAWn5wjm"
      }
    },
    {
      "cell_type": "code",
      "source": [
        "list = []\n",
        "\n",
        "for i in range(10):\n",
        "\n",
        "  list.append(i)"
      ],
      "metadata": {
        "id": "_92Lleis3Ys4"
      },
      "execution_count": 64,
      "outputs": []
    },
    {
      "cell_type": "code",
      "source": [
        "list"
      ],
      "metadata": {
        "colab": {
          "base_uri": "https://localhost:8080/"
        },
        "id": "iLsSgnuG5VvF",
        "outputId": "0e66dd2d-37a3-4ef1-9413-c1cccf6980fb"
      },
      "execution_count": 66,
      "outputs": [
        {
          "output_type": "execute_result",
          "data": {
            "text/plain": [
              "[0, 1, 2, 3, 4, 5, 6, 7, 8, 9]"
            ]
          },
          "metadata": {},
          "execution_count": 66
        }
      ]
    },
    {
      "cell_type": "code",
      "source": [
        "list2 = [i for i in range(20)]\n"
      ],
      "metadata": {
        "id": "hi-1azgO5fsq"
      },
      "execution_count": 67,
      "outputs": []
    },
    {
      "cell_type": "code",
      "source": [
        "list2"
      ],
      "metadata": {
        "colab": {
          "base_uri": "https://localhost:8080/"
        },
        "id": "YUoSxfPy5lch",
        "outputId": "53a4eed8-7c40-41bb-dd86-3e2e828314f9"
      },
      "execution_count": 68,
      "outputs": [
        {
          "output_type": "execute_result",
          "data": {
            "text/plain": [
              "[0, 1, 2, 3, 4, 5, 6, 7, 8, 9, 10, 11, 12, 13, 14, 15, 16, 17, 18, 19]"
            ]
          },
          "metadata": {},
          "execution_count": 68
        }
      ]
    },
    {
      "cell_type": "code",
      "source": [
        "list2 = [i for i in range(20) if i%2 == 0]\n"
      ],
      "metadata": {
        "id": "cLBKbRtd5mJA"
      },
      "execution_count": 69,
      "outputs": []
    },
    {
      "cell_type": "code",
      "source": [
        "list2"
      ],
      "metadata": {
        "colab": {
          "base_uri": "https://localhost:8080/"
        },
        "id": "Z33f131c5sMg",
        "outputId": "513105c2-b063-4b16-a6de-c4fbb044b719"
      },
      "execution_count": 70,
      "outputs": [
        {
          "output_type": "execute_result",
          "data": {
            "text/plain": [
              "[0, 2, 4, 6, 8, 10, 12, 14, 16, 18]"
            ]
          },
          "metadata": {},
          "execution_count": 70
        }
      ]
    },
    {
      "cell_type": "code",
      "source": [
        "list2 = [i for i in range(20) if i%2 == 0 and i > 0]"
      ],
      "metadata": {
        "id": "dnqUyPzp5tHm"
      },
      "execution_count": 71,
      "outputs": []
    },
    {
      "cell_type": "code",
      "source": [
        "list2"
      ],
      "metadata": {
        "colab": {
          "base_uri": "https://localhost:8080/"
        },
        "id": "Qzyg5xw47cP7",
        "outputId": "29588d19-98a3-464e-ef4f-d3cbee4d0275"
      },
      "execution_count": 72,
      "outputs": [
        {
          "output_type": "execute_result",
          "data": {
            "text/plain": [
              "[2, 4, 6, 8, 10, 12, 14, 16, 18]"
            ]
          },
          "metadata": {},
          "execution_count": 72
        }
      ]
    },
    {
      "cell_type": "markdown",
      "source": [
        "Ejemplo de Dictionary comprehensions\n",
        "\n",
        "**Un dictionary comprehensions es un metodo rápido para creación de diccionarios a través de un for loop.\n",
        "se puede usar cualquier iterable para construirlo.**\n",
        "> dict = {key: value for (key, value) in dict.items() if condición"
      ],
      "metadata": {
        "id": "I1PHcN737rwj"
      }
    },
    {
      "cell_type": "code",
      "source": [
        "stocks = {\"AAPL\" : 121, \"AMZN\": 3380, \"MSFT\": 219, \"BIIB\": 280, \"QDEL\": 266, \"LVGO\": 144}"
      ],
      "metadata": {
        "id": "qE8dvnt-7dWp"
      },
      "execution_count": 73,
      "outputs": []
    },
    {
      "cell_type": "code",
      "source": [
        "stocks_over150 = { key: value for (key, value) in stocks.items() }"
      ],
      "metadata": {
        "id": "ygnr-ekn8PeA"
      },
      "execution_count": 74,
      "outputs": []
    },
    {
      "cell_type": "code",
      "source": [
        "stocks_over150"
      ],
      "metadata": {
        "colab": {
          "base_uri": "https://localhost:8080/"
        },
        "id": "3rhDMg3M8txU",
        "outputId": "6240390b-32d6-48cf-b100-8a9d9e35caa3"
      },
      "execution_count": 76,
      "outputs": [
        {
          "output_type": "execute_result",
          "data": {
            "text/plain": [
              "{'AAPL': 121, 'AMZN': 3380, 'MSFT': 219, 'BIIB': 280, 'QDEL': 266, 'LVGO': 144}"
            ]
          },
          "metadata": {},
          "execution_count": 76
        }
      ]
    },
    {
      "cell_type": "code",
      "source": [
        "stocks_over150 = { key: value for (key, value) in stocks.items() if value > 150 }"
      ],
      "metadata": {
        "id": "2PBkaLK58wvJ"
      },
      "execution_count": 77,
      "outputs": []
    },
    {
      "cell_type": "code",
      "source": [
        "stocks_over150"
      ],
      "metadata": {
        "colab": {
          "base_uri": "https://localhost:8080/"
        },
        "id": "Spf0FIhg84Ao",
        "outputId": "d0dfca9e-0e9f-48eb-f644-3d7d551f6278"
      },
      "execution_count": 78,
      "outputs": [
        {
          "output_type": "execute_result",
          "data": {
            "text/plain": [
              "{'AMZN': 3380, 'MSFT': 219, 'BIIB': 280, 'QDEL': 266}"
            ]
          },
          "metadata": {},
          "execution_count": 78
        }
      ]
    },
    {
      "cell_type": "code",
      "source": [],
      "metadata": {
        "id": "_vZtNRO-84_x"
      },
      "execution_count": null,
      "outputs": []
    }
  ]
}